{
 "cells": [
  {
   "cell_type": "code",
   "execution_count": 6,
   "metadata": {
    "collapsed": false
   },
   "outputs": [
    {
     "name": "stderr",
     "output_type": "stream",
     "text": [
      "/Library/Frameworks/Python.framework/Versions/3.4/lib/python3.4/site-packages/matplotlib/__init__.py:1318: UserWarning:  This call to matplotlib.use() has no effect\n",
      "because the backend has already been chosen;\n",
      "matplotlib.use() must be called *before* pylab, matplotlib.pyplot,\n",
      "or matplotlib.backends is imported for the first time.\n",
      "\n",
      "  warnings.warn(_use_error_msg)\n"
     ]
    }
   ],
   "source": [
    "import numpy as np\n",
    "import matplotlib\n",
    "import codecs\n",
    "\n",
    "matplotlib.use('TkAgg')\n",
    "import matplotlib.pyplot as plt\n",
    "%matplotlib inline\n",
    "\n",
    "from __future__ import unicode_literals\n",
    "\n",
    "att, align = [], []\n",
    "with open('train_result.HiEn') as f:\n",
    "    sentence = []\n",
    "    lines = f.readlines()\n",
    "    l = 1 \n",
    "    while l < len(lines):\n",
    "        if lines[l] == '\\n':\n",
    "            l = l + 1\n",
    "            att.append(np.array(sentence))\n",
    "            sentence = []\n",
    "        else:\n",
    "            values = lines[l].split('\\t')\n",
    "            token = np.array([np.round(float(x), 3) for x in values[1:-1]])\n",
    "            token = token/np.sum(token)\n",
    "            sentence.append(token)\n",
    "        l = l + 1\n",
    "    att.append(sentence)\n",
    "\n",
    "\n",
    "# keep end of sentence marker?\n",
    "    \n",
    "source = []\n",
    "t = codecs.open('../data/train.Hi', encoding='utf-8')\n",
    "train_data = t.readlines()  \n",
    "for sent in train_data:\n",
    "    sent = sent.splitlines()[0]\n",
    "    source.append(sent.split(' '))\n",
    "    \n",
    "target = []\n",
    "train_data = open('../data/train.En').readlines()  \n",
    "for sent in train_data:\n",
    "    sent = sent.splitlines()[0]\n",
    "    target.append(sent.split(' '))\n",
    "        \n",
    "with open('alignmentHi-En.txt') as f:\n",
    "    sentence = []\n",
    "    for line in f:\n",
    "        if line == '\\n':\n",
    "            align.append(np.array(sentence).T)\n",
    "            sentence = []\n",
    "        else:\n",
    "            values = line.split('\\t')\n",
    "#             print (values)\n",
    "            token = [float(x) for x in values[:-1]]\n",
    "            sentence.append(token)\n",
    "\n",
    "    \n",
    "    "
   ]
  },
  {
   "cell_type": "code",
   "execution_count": 124,
   "metadata": {
    "collapsed": false
   },
   "outputs": [],
   "source": [
    "numlines = len(att)\n",
    "numlines = 1748\n",
    "sqe = np.empty(numlines)\n",
    "slen = np.empty(numlines)\n",
    "\n",
    "sqlarge, sqsmall, sqmed = [], [], []\n",
    "\n",
    "for i in range(numlines):\n",
    "    x = 0.0\n",
    "    att_size = np.shape(att[i])[0]\n",
    "    align_size = np.shape(align[i])[0]\n",
    "    size = min(att_size, align_size)\n",
    "    x = np.sum(np.square((att[i][:size] - align[i][:size])))\n",
    "    if (att_size > size) :\n",
    "        x += np.sum(np.square(att[i][size:att_size]))                   \n",
    "    elif align_size > size:\n",
    "        x += np.sum(np.square(align[i][size:align_size]))\n",
    "    sqe[i] = np.sqrt(x)/att_size\n",
    "    slen[i] = np.shape(att[i])[1]\n",
    "    if slen[i] > 7:\n",
    "        sqlarge.append(sqe[i])\n",
    "    elif slen[i] > 4:\n",
    "        sqmed.append(sqe[i])\n",
    "    else:\n",
    "        sqsmall.append(sqe[i])\n",
    "    \n",
    "        "
   ]
  },
  {
   "cell_type": "code",
   "execution_count": 126,
   "metadata": {
    "collapsed": false
   },
   "outputs": [
    {
     "data": {
      "image/png": "[encoded data removed]",
      "text/plain": [
       "<matplotlib.figure.Figure at 0x10681f438>"
      ]
     },
     "metadata": {},
     "output_type": "display_data"
    },
    {
     "data": {
      "image/png": "[encoded data removed]",
      "text/plain": [
       "<matplotlib.figure.Figure at 0x10820ab38>"
      ]
     },
     "metadata": {},
     "output_type": "display_data"
    },
    {
     "data": {
      "image/png": "[encoded data removed]",
      "text/plain": [
       "<matplotlib.figure.Figure at 0x104f949e8>"
      ]
     },
     "metadata": {},
     "output_type": "display_data"
    },
    {
     "name": "stdout",
     "output_type": "stream",
     "text": [
      "1.11803398875\n",
      "0.0\n"
     ]
    }
   ],
   "source": [
    "plt.xlabel(\"Error in attention\")\n",
    "plt.ylabel(\"Frequency\")\n",
    "plt.hist(sqsmall, color='y', label='small')\n",
    "plt.show()\n",
    "plt.hist(sqmed, color='y', label='small')\n",
    "plt.show()\n",
    "plt.hist(sqlarge, color='y', label='small')\n",
    "plt.show()\n",
    "\n",
    "print(np.max(sqe))\n",
    "print(np.min(sqe))"
   ]
  },
  {
   "cell_type": "code",
   "execution_count": 90,
   "metadata": {
    "collapsed": false
   },
   "outputs": [
    {
     "name": "stdout",
     "output_type": "stream",
     "text": [
      "['क', '्', 'व', 'ी', 'न', '्', 'स', 'ल', 'ै', 'ं', 'ड']\n"
     ]
    },
    {
     "data": {
      "text/plain": [
       "<matplotlib.image.AxesImage at 0x105229ba8>"
      ]
     },
     "execution_count": 90,
     "metadata": {},
     "output_type": "execute_result"
    },
    {
     "data": {
      "image/png": "[encoded data removed]",
      "text/plain": [
       "<matplotlib.figure.Figure at 0x10f26c860>"
      ]
     },
     "metadata": {},
     "output_type": "display_data"
    }
   ],
   "source": [
    "# PLotting image map\n",
    "idx = 6\n",
    "img = att[idx]\n",
    "print(repr(source[idx]))\n",
    "\n",
    "# target[idx]= ['S', 'A', 'R', 'A', 'N', 'G']\n",
    "matplotlib.rc('font', family='Arial')\n",
    "srcl, trgtl = len(source[idx]), len(target[idx])\n",
    "shape = (0, srcl, trgtl, 0)\n",
    "plt.yticks( np.arange(trgtl),target[idx] )\n",
    "plt.xticks( np.arange(0))\n",
    "\n",
    "plt.imshow(img, cmap='Greys_r', aspect='auto', extent=shape, interpolation='nearest')\n"
   ]
  },
  {
   "cell_type": "code",
   "execution_count": 7,
   "metadata": {
    "collapsed": false
   },
   "outputs": [
    {
     "name": "stdout",
     "output_type": "stream",
     "text": [
      "P P 4\n",
      "P P 0\n",
      "P P 0\n",
      "P P 0\n",
      "P P 0\n",
      "P P 0\n",
      "P P 0\n",
      "P P 0\n",
      "K K 4\n",
      "K K 0\n",
      "K K 0\n",
      "K K 0\n",
      "K K 0\n",
      "K K 0\n",
      "K K 0\n",
      "S S 4\n",
      "S S 0\n",
      "S S 0\n",
      "S S 0\n",
      "M M 4\n",
      "M M 0\n",
      "M M 0\n",
      "M M 0\n",
      "M M 0\n",
      "M M 0\n",
      "T T 4\n",
      "T T 0\n",
      "F F 4\n",
      "F F 0\n",
      "F F 0\n",
      "F F 0\n",
      "F F 0\n",
      "F F 0\n",
      "F F 0\n",
      "F F 0\n",
      "Q Q 4\n",
      "Q Q 0\n",
      "Q Q 0\n",
      "Q Q 0\n",
      "Q Q 0\n",
      "Q Q 0\n",
      "Q Q 0\n",
      "Q Q 0\n",
      "Q Q 0\n",
      "Q Q 0\n",
      "Q Q 0\n",
      "S S 4\n",
      "S S 0\n",
      "S S 0\n",
      "S S 0\n",
      "S S 0\n",
      "M M 4\n",
      "M M 0\n",
      "M M 0\n",
      "M M 0\n",
      "B B 4\n",
      "B B 0\n",
      "B B 0\n",
      "B B 0\n",
      "B B 0\n",
      "B B 0\n",
      "B B 0\n",
      "B B 0\n",
      "B B 4\n",
      "B B 0\n",
      "B B 0\n",
      "Y Y 4\n",
      "Y Y 0\n",
      "Y Y 0\n",
      "Y Y 0\n",
      "Y Y 0\n",
      "Y Y 0\n",
      "Y Y 0\n",
      "Y Y 0\n",
      "S S 4\n",
      "S S 0\n",
      "S S 0\n",
      "S S 0\n",
      "S S 0\n",
      "G G 4\n",
      "G G 0\n",
      "G G 0\n",
      "G G 0\n",
      "G G 0\n",
      "T T 4\n",
      "T T 0\n",
      "T T 0\n",
      "T T 0\n",
      "T T 0\n",
      "T T 0\n",
      "S S 4\n",
      "S S 0\n",
      "S S 0\n",
      "S S 0\n",
      "S S 0\n",
      "S S 0\n",
      "S S 0\n",
      "S S 0\n",
      "S S 0\n",
      "Z Z 4\n",
      "Z Z 0\n",
      "Z Z 0\n",
      "Z Z 0\n",
      "Z Z 0\n",
      "Z Z 0\n",
      "Z Z 0\n",
      "B B 4\n",
      "B B 0\n",
      "B B 0\n",
      "B B 0\n",
      "B B 0\n",
      "B B 0\n",
      "B B 0\n",
      "M M 4\n",
      "M M 0\n",
      "M M 0\n",
      "P P 4\n",
      "P P 0\n",
      "P P 0\n",
      "P P 0\n",
      "P P 0\n",
      "A A 4\n",
      "A A 0\n",
      "A A 0\n",
      "A A 0\n",
      "H H 4\n",
      "H H 0\n",
      "D D 4\n",
      "D D 0\n",
      "D D 0\n",
      "D D 0\n",
      "D D 0\n",
      "D D 0\n",
      "L L 4\n",
      "L L 0\n",
      "L L 0\n",
      "L L 0\n",
      "L L 0\n",
      "L L 0\n",
      "T T 4\n",
      "T T 0\n",
      "T T 0\n",
      "T T 0\n",
      "T T 0\n",
      "W W 4\n",
      "W W 0\n",
      "W W 0\n",
      "W W 0\n",
      "W W 0\n",
      "F F 4\n",
      "F F 1\n",
      "F F 0\n",
      "F F 0\n",
      "T T 4\n",
      "T T 0\n",
      "T T 0\n",
      "T T 0\n",
      "T T 0\n",
      "T T 0\n",
      "T T 0\n",
      "T T 0\n",
      "W W 4\n",
      "W W 0\n",
      "W W 0\n",
      "W W 0\n",
      "M M 4\n",
      "M M 0\n",
      "M M 0\n"
     ]
    },
    {
     "ename": "IndexError",
     "evalue": "list index out of range",
     "output_type": "error",
     "traceback": [
      "\u001b[0;31m---------------------------------------------------------------------------\u001b[0m",
      "\u001b[0;31mIndexError\u001b[0m                                Traceback (most recent call last)",
      "\u001b[0;32m<ipython-input-7-9ac210c65641>\u001b[0m in \u001b[0;36m<module>\u001b[0;34m()\u001b[0m\n\u001b[1;32m     52\u001b[0m         \u001b[0;32mfor\u001b[0m \u001b[0ms\u001b[0m \u001b[0;32min\u001b[0m \u001b[0mrange\u001b[0m\u001b[0;34m(\u001b[0m\u001b[0msrc_len\u001b[0m\u001b[0;34m)\u001b[0m\u001b[0;34m:\u001b[0m\u001b[0;34m\u001b[0m\u001b[0m\n\u001b[1;32m     53\u001b[0m             \u001b[0mlabel\u001b[0m\u001b[0;34m.\u001b[0m\u001b[0mappend\u001b[0m\u001b[0;34m(\u001b[0m\u001b[0massignLabel\u001b[0m\u001b[0;34m(\u001b[0m\u001b[0mscore\u001b[0m\u001b[0;34m[\u001b[0m\u001b[0mt\u001b[0m\u001b[0;34m]\u001b[0m\u001b[0;34m[\u001b[0m\u001b[0ms\u001b[0m\u001b[0;34m]\u001b[0m\u001b[0;34m)\u001b[0m\u001b[0;34m)\u001b[0m\u001b[0;34m\u001b[0m\u001b[0m\n\u001b[0;32m---> 54\u001b[0;31m         \u001b[0mnewtoken\u001b[0m\u001b[0;34m,\u001b[0m \u001b[0mst\u001b[0m \u001b[0;34m=\u001b[0m \u001b[0msegment\u001b[0m\u001b[0;34m(\u001b[0m\u001b[0mlabel\u001b[0m\u001b[0;34m,\u001b[0m \u001b[0mst\u001b[0m\u001b[0;34m,\u001b[0m \u001b[0mtarget\u001b[0m\u001b[0;34m[\u001b[0m\u001b[0mk\u001b[0m\u001b[0;34m]\u001b[0m\u001b[0;34m)\u001b[0m\u001b[0;34m\u001b[0m\u001b[0m\n\u001b[0m\u001b[1;32m     55\u001b[0m         \u001b[0;32mif\u001b[0m \u001b[0mnewtoken\u001b[0m \u001b[0;34m!=\u001b[0m \u001b[0;34m''\u001b[0m\u001b[0;34m:\u001b[0m\u001b[0;34m\u001b[0m\u001b[0m\n\u001b[1;32m     56\u001b[0m             \u001b[0mseg\u001b[0m\u001b[0;34m.\u001b[0m\u001b[0mappend\u001b[0m\u001b[0;34m(\u001b[0m\u001b[0mnewtoken\u001b[0m\u001b[0;34m)\u001b[0m\u001b[0;34m\u001b[0m\u001b[0m\n",
      "\u001b[0;32m<ipython-input-7-9ac210c65641>\u001b[0m in \u001b[0;36msegment\u001b[0;34m(label, st, src)\u001b[0m\n\u001b[1;32m     21\u001b[0m             \u001b[0;32mbreak\u001b[0m\u001b[0;34m\u001b[0m\u001b[0m\n\u001b[1;32m     22\u001b[0m         \u001b[0;32melse\u001b[0m\u001b[0;34m:\u001b[0m\u001b[0;34m\u001b[0m\u001b[0m\n\u001b[0;32m---> 23\u001b[0;31m             \u001b[0mtoken\u001b[0m \u001b[0;34m+=\u001b[0m \u001b[0msrc\u001b[0m\u001b[0;34m[\u001b[0m\u001b[0mi\u001b[0m\u001b[0;34m]\u001b[0m\u001b[0;34m\u001b[0m\u001b[0m\n\u001b[0m\u001b[1;32m     24\u001b[0m \u001b[0;34m\u001b[0m\u001b[0m\n\u001b[1;32m     25\u001b[0m \u001b[0;34m\u001b[0m\u001b[0m\n",
      "\u001b[0;31mIndexError\u001b[0m: list index out of range"
     ]
    }
   ],
   "source": [
    "def assignLabel(score):\n",
    "    if score < 0.05:\n",
    "        return 0\n",
    "    elif score < 0.25:\n",
    "        return 1\n",
    "    elif score < 0.5:\n",
    "        return 2\n",
    "    elif score < 0.75:\n",
    "        return 3\n",
    "    else:\n",
    "        return 4\n",
    "    \n",
    "def segment(label, st, src):\n",
    "    token = ''\n",
    "    newst = st\n",
    "    flag = 0\n",
    "    for i in range(st, len(label)):\n",
    "        if label[i] == 0 and flag == 0:\n",
    "            continue\n",
    "        elif label[i] == 0 and flag == 1:\n",
    "            break\n",
    "        else:\n",
    "            token += src[i]\n",
    "            \n",
    "            \n",
    "        if label[i] == 0:\n",
    "            if token != '':\n",
    "                newst = i\n",
    "#                 if label[i-1] > 3:\n",
    "#                     newst = i\n",
    "#                 else:\n",
    "#                     newst = i - 1\n",
    "                break\n",
    "            else:\n",
    "                continue\n",
    "        else:\n",
    "            token += src[i] #+ str(label[i])\n",
    "    \n",
    "    print(src[st], src[newst], label[newst])\n",
    "    return token, newst#\n",
    "\n",
    "segmented_src = []\n",
    "    \n",
    "for k in range(len(att)):\n",
    "    score = att[k].T\n",
    "    trgt_len = np.shape(score)[0]\n",
    "    src_len = np.shape(score)[1]\n",
    "    seg = []\n",
    "    st = 0\n",
    "    for t in range(trgt_len):\n",
    "        label = []\n",
    "        for s in range(src_len):\n",
    "            label.append(assignLabel(score[t][s]))\n",
    "        newtoken, st = segment(label, st, target[k])\n",
    "        if newtoken != '':\n",
    "            seg.append(newtoken)\n",
    "    segmented_src.append(seg)\n",
    "                \n",
    "print(segmented_src)"
   ]
  },
  {
   "cell_type": "code",
   "execution_count": null,
   "metadata": {
    "collapsed": true
   },
   "outputs": [],
   "source": []
  }
 ],
 "metadata": {
  "kernelspec": {
   "display_name": "Python 3",
   "language": "python",
   "name": "python3"
  },
  "language_info": {
   "codemirror_mode": {
    "name": "ipython",
    "version": 3
   },
   "file_extension": ".py",
   "mimetype": "text/x-python",
   "name": "python",
   "nbconvert_exporter": "python",
   "pygments_lexer": "ipython3",
   "version": "3.4.2"
  }
 },
 "nbformat": 4,
 "nbformat_minor": 0
}
